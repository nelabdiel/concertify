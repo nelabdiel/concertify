{
 "cells": [
  {
   "cell_type": "code",
   "execution_count": 7,
   "metadata": {
    "collapsed": false
   },
   "outputs": [],
   "source": [
    "#stuff we need.\n",
    "import simplejson\n",
    "import time\n",
    "import matplotlib\n",
    "import matplotlib.pylab as plt\n",
    "import scipy as sp\n",
    "import urllib\n",
    "import json\n",
    "import spotipy\n",
    "import stubhub\n",
    "\n",
    "\n",
    "#http://ajax.googleapis.com/ajax/services/search/web?v1.0&=q"
   ]
  },
  {
   "cell_type": "code",
   "execution_count": 13,
   "metadata": {
    "collapsed": true
   },
   "outputs": [],
   "source": [
    "#Lets bring the list of artists you follow\n",
    "with open(\"Concertify.json\") as fh:\n",
    "    ayf = simplejson.loads(fh.read())"
   ]
  },
  {
   "cell_type": "code",
   "execution_count": 14,
   "metadata": {
    "collapsed": false
   },
   "outputs": [
    {
     "name": "stdout",
     "output_type": "stream",
     "text": [
      "{'total': 73, 'cursors': {'after': '1moxjboGR7GNWYIMWsRjgG'}, 'limit': 20, 'next': 'https://api.spotify.com/v1/me/following?type=artist&after=1moxjboGR7GNWYIMWsRjgG&limit=20', 'items': [{'id': '00FQb4jTyendYWaN8pK0wa', 'uri': 'spotify:artist:00FQb4jTyendYWaN8pK0wa', 'name': 'Lana Del Rey', 'followers': {'total': 3731148, 'href': None}, 'type': 'artist', 'popularity': 87, 'external_urls': {'spotify': 'https://open.spotify.com/artist/00FQb4jTyendYWaN8pK0wa'}, 'images': [{'width': 1000, 'height': 1000, 'url': 'https://i.scdn.co/image/15f34b9bf2867358d36a6e9c60ed0dacf29a6340'}, {'width': 640, 'height': 640, 'url': 'https://i.scdn.co/image/ded8fcabfe5e7b0942ab3ea994e3706d29ded486'}, {'width': 200, 'height': 200, 'url': 'https://i.scdn.co/image/93faca95dacd3c37eb9ffcfe66aca0a4c8f8da05'}, {'width': 64, 'height': 64, 'url': 'https://i.scdn.co/image/01c6586efc099f4c888fab8c860c7893ae7ba9dc'}], 'href': 'https://api.spotify.com/v1/artists/00FQb4jTyendYWaN8pK0wa', 'genres': []}, {'id': '07YZf4WDAMNwqr4jfgOZ8y', 'uri': 'spotify:artist:07YZf4WDAMNwqr4jfgOZ8y', 'name': 'Jason Derulo', 'followers': {'total': 1654623, 'href': None}, 'type': 'artist', 'popularity': 87, 'external_urls': {'spotify': 'https://open.spotify.com/artist/07YZf4WDAMNwqr4jfgOZ8y'}, 'images': [{'width': 1000, 'height': 1389, 'url': 'https://i.scdn.co/image/f7460230a0b089d7d7b77336f8b8533777ca6a16'}, {'width': 640, 'height': 889, 'url': 'https://i.scdn.co/image/e0254254376322dc83067652cc5f955ae999e1cd'}, {'width': 200, 'height': 278, 'url': 'https://i.scdn.co/image/dcdacc8d0e03a3c497b17254551b156410b43dc1'}, {'width': 64, 'height': 89, 'url': 'https://i.scdn.co/image/da6dbdfbb04aaeb7896ad732900fa3b5c546e904'}], 'href': 'https://api.spotify.com/v1/artists/07YZf4WDAMNwqr4jfgOZ8y', 'genres': []}, {'id': '0YrtvWJMgSdVrk3SfNjTbx', 'uri': 'spotify:artist:0YrtvWJMgSdVrk3SfNjTbx', 'name': 'Death Cab for Cutie', 'followers': {'total': 526781, 'href': None}, 'type': 'artist', 'popularity': 73, 'external_urls': {'spotify': 'https://open.spotify.com/artist/0YrtvWJMgSdVrk3SfNjTbx'}, 'images': [{'width': 1000, 'height': 750, 'url': 'https://i.scdn.co/image/764d9d5942f0574b381fa7e875bc4957ad8e59ba'}, {'width': 640, 'height': 480, 'url': 'https://i.scdn.co/image/31e57a3304880c29369efe8a95bf76c0b6dbd7ac'}, {'width': 200, 'height': 150, 'url': 'https://i.scdn.co/image/802a3b57bf4f7054311807c64388fd0c0e643130'}, {'width': 64, 'height': 48, 'url': 'https://i.scdn.co/image/f8e6434e5beccbd6df80665c48047b8df0c3189a'}], 'href': 'https://api.spotify.com/v1/artists/0YrtvWJMgSdVrk3SfNjTbx', 'genres': []}, {'id': '0ZrpamOxcZybMHGg1AYtHP', 'uri': 'spotify:artist:0ZrpamOxcZybMHGg1AYtHP', 'name': 'Robin Thicke', 'followers': {'total': 509918, 'href': None}, 'type': 'artist', 'popularity': 81, 'external_urls': {'spotify': 'https://open.spotify.com/artist/0ZrpamOxcZybMHGg1AYtHP'}, 'images': [{'width': 900, 'height': 600, 'url': 'https://i.scdn.co/image/7eac395ec642b5beb349c2d8c9c69d5a6ce0483a'}, {'width': 640, 'height': 427, 'url': 'https://i.scdn.co/image/487a25f02d62720d9e12cd3a92f76cc49d271812'}, {'width': 200, 'height': 133, 'url': 'https://i.scdn.co/image/7ca00b5679f0e1846efbac87efc04cb9e3e69bb4'}, {'width': 64, 'height': 43, 'url': 'https://i.scdn.co/image/d95a8d6ddab7b0a73e2b075ae40071a435602017'}], 'href': 'https://api.spotify.com/v1/artists/0ZrpamOxcZybMHGg1AYtHP', 'genres': ['r&b']}, {'id': '0a1gHP0HAqALbEyxaD5Ngn', 'uri': 'spotify:artist:0a1gHP0HAqALbEyxaD5Ngn', 'name': 'Rascal Flatts', 'followers': {'total': 442674, 'href': None}, 'type': 'artist', 'popularity': 72, 'external_urls': {'spotify': 'https://open.spotify.com/artist/0a1gHP0HAqALbEyxaD5Ngn'}, 'images': [{'width': 1000, 'height': 667, 'url': 'https://i.scdn.co/image/9eab4c6ef2d1b5b9a3a6cac281df8440d261af44'}, {'width': 640, 'height': 427, 'url': 'https://i.scdn.co/image/819a4083cd3c8a4fcc640eda718ec2b05f5365a8'}, {'width': 200, 'height': 133, 'url': 'https://i.scdn.co/image/8642e0662d87fcb3d6bcd2473cfdcce314556a97'}, {'width': 64, 'height': 43, 'url': 'https://i.scdn.co/image/4eaeab7d6e59c1768dc010bac7145aa27bab177d'}], 'href': 'https://api.spotify.com/v1/artists/0a1gHP0HAqALbEyxaD5Ngn', 'genres': ['contemporary country']}, {'id': '0du5cEVh5yTK9QJze8zA0C', 'uri': 'spotify:artist:0du5cEVh5yTK9QJze8zA0C', 'name': 'Bruno Mars', 'followers': {'total': 3896376, 'href': None}, 'type': 'artist', 'popularity': 87, 'external_urls': {'spotify': 'https://open.spotify.com/artist/0du5cEVh5yTK9QJze8zA0C'}, 'images': [{'width': 500, 'height': 500, 'url': 'https://i.scdn.co/image/f22774ca7d636e724164a65b2601ab39538a3aed'}, {'width': 200, 'height': 200, 'url': 'https://i.scdn.co/image/9b0ac8d5ed8158cd2f00213d8b73e48fa49e63c8'}, {'width': 64, 'height': 64, 'url': 'https://i.scdn.co/image/131364fe54e48e36c39ec96eea47656855404f9b'}], 'href': 'https://api.spotify.com/v1/artists/0du5cEVh5yTK9QJze8zA0C', 'genres': ['pop']}, {'id': '0hYxQe3AK5jBPCr5MumLHD', 'uri': 'spotify:artist:0hYxQe3AK5jBPCr5MumLHD', 'name': 'Sugarland', 'followers': {'total': 138222, 'href': None}, 'type': 'artist', 'popularity': 58, 'external_urls': {'spotify': 'https://open.spotify.com/artist/0hYxQe3AK5jBPCr5MumLHD'}, 'images': [{'width': 1000, 'height': 563, 'url': 'https://i.scdn.co/image/4019d38663b9dd2500ecd426d5aa7c7c9e1f7d30'}, {'width': 640, 'height': 360, 'url': 'https://i.scdn.co/image/b6a9c458ca831633476e0e117b4fe32db498f7a3'}, {'width': 200, 'height': 113, 'url': 'https://i.scdn.co/image/2103a870a2acb3afa86656887f87e7f2fa74ce00'}, {'width': 64, 'height': 36, 'url': 'https://i.scdn.co/image/5a28be241e29d25ac364da002e5ca132c32c0a0a'}], 'href': 'https://api.spotify.com/v1/artists/0hYxQe3AK5jBPCr5MumLHD', 'genres': ['contemporary country', 'country dawn']}, {'id': '0rvjqX7ttXeg3mTy8Xscbt', 'uri': 'spotify:artist:0rvjqX7ttXeg3mTy8Xscbt', 'name': 'Journey', 'followers': {'total': 425567, 'href': None}, 'type': 'artist', 'popularity': 74, 'external_urls': {'spotify': 'https://open.spotify.com/artist/0rvjqX7ttXeg3mTy8Xscbt'}, 'images': [{'width': 1000, 'height': 939, 'url': 'https://i.scdn.co/image/992312bff2d78c3f65665d7ff69efcf617d9c01e'}, {'width': 640, 'height': 601, 'url': 'https://i.scdn.co/image/44e7145c3f0bfbb0dab2ca215dd2dd1d4ccc1f36'}, {'width': 200, 'height': 188, 'url': 'https://i.scdn.co/image/6a29e8ee47711658f4332e851560de9c6b915c4f'}, {'width': 64, 'height': 60, 'url': 'https://i.scdn.co/image/a12996d7d13983083d39d6639e51b35d503318c7'}], 'href': 'https://api.spotify.com/v1/artists/0rvjqX7ttXeg3mTy8Xscbt', 'genres': ['album rock']}, {'id': '11kBu957KTYoAltZHDm8gW', 'uri': 'spotify:artist:11kBu957KTYoAltZHDm8gW', 'name': 'Buena Vista Social Club', 'followers': {'total': 188720, 'href': None}, 'type': 'artist', 'popularity': 65, 'external_urls': {'spotify': 'https://open.spotify.com/artist/11kBu957KTYoAltZHDm8gW'}, 'images': [{'width': 1000, 'height': 1000, 'url': 'https://i.scdn.co/image/5d20d6f8d14f216a770d1aa461dd5091938f9aa9'}, {'width': 640, 'height': 640, 'url': 'https://i.scdn.co/image/9542d171203522de67c83f0deaf855519b3c4438'}, {'width': 200, 'height': 200, 'url': 'https://i.scdn.co/image/00781c9344c72e8f30540377ad03ea7bfc3173f6'}, {'width': 64, 'height': 64, 'url': 'https://i.scdn.co/image/8af818b63f191e9dc26c60ca99f3334aaa07dfcd'}], 'href': 'https://api.spotify.com/v1/artists/11kBu957KTYoAltZHDm8gW', 'genres': []}, {'id': '137W8MRPWKqSmrBGDBFSop', 'uri': 'spotify:artist:137W8MRPWKqSmrBGDBFSop', 'name': 'Wiz Khalifa', 'followers': {'total': 2676396, 'href': None}, 'type': 'artist', 'popularity': 90, 'external_urls': {'spotify': 'https://open.spotify.com/artist/137W8MRPWKqSmrBGDBFSop'}, 'images': [{'width': 900, 'height': 1200, 'url': 'https://i.scdn.co/image/6fcf0a3556f9edf47f4d17c33a48418a3d2e6bce'}, {'width': 640, 'height': 853, 'url': 'https://i.scdn.co/image/d803a20e1402bf2c46353c97d929a3f28c27366e'}, {'width': 200, 'height': 267, 'url': 'https://i.scdn.co/image/0d706a776e505ad54968f389e4c6b820a7615562'}, {'width': 64, 'height': 85, 'url': 'https://i.scdn.co/image/534b45d0038ca0142b50dcc3f338a8fdd9caa949'}], 'href': 'https://api.spotify.com/v1/artists/137W8MRPWKqSmrBGDBFSop', 'genres': ['alternative hip hop', 'pop rap']}, {'id': '163tK9Wjr9P9DmM0AVK7lm', 'uri': 'spotify:artist:163tK9Wjr9P9DmM0AVK7lm', 'name': 'Lorde', 'followers': {'total': 1471414, 'href': None}, 'type': 'artist', 'popularity': 81, 'external_urls': {'spotify': 'https://open.spotify.com/artist/163tK9Wjr9P9DmM0AVK7lm'}, 'images': [{'width': 673, 'height': 608, 'url': 'https://i.scdn.co/image/02c4a43ced9e85812d29573e5ca1c055f4e77b76'}, {'width': 640, 'height': 578, 'url': 'https://i.scdn.co/image/b6f0711f652e6f0540018f721c6ee19aae13fc79'}, {'width': 200, 'height': 181, 'url': 'https://i.scdn.co/image/b85b3c472ae36e9ade51828f1813f345b03bea73'}, {'width': 64, 'height': 58, 'url': 'https://i.scdn.co/image/a2c01c1d71fba9323806a9befdd6b31706ec91cd'}], 'href': 'https://api.spotify.com/v1/artists/163tK9Wjr9P9DmM0AVK7lm', 'genres': []}, {'id': '19eLuQmk9aCobbVDHc6eek', 'uri': 'spotify:artist:19eLuQmk9aCobbVDHc6eek', 'name': 'Louis Armstrong', 'followers': {'total': 267398, 'href': None}, 'type': 'artist', 'popularity': 71, 'external_urls': {'spotify': 'https://open.spotify.com/artist/19eLuQmk9aCobbVDHc6eek'}, 'images': [{'width': 1000, 'height': 1166, 'url': 'https://i.scdn.co/image/7e61be280d4f457b89d563be6b2a11e8ef9e67f3'}, {'width': 640, 'height': 747, 'url': 'https://i.scdn.co/image/097a40d4cd2539ab588bc6c7daff04eb06157ca6'}, {'width': 200, 'height': 233, 'url': 'https://i.scdn.co/image/da867b62c0fd0e718b258cf0ada26887624e2346'}, {'width': 64, 'height': 75, 'url': 'https://i.scdn.co/image/187487992eee93ac0b73456f4d3295e6ea370c68'}], 'href': 'https://api.spotify.com/v1/artists/19eLuQmk9aCobbVDHc6eek', 'genres': ['cabaret', 'dixieland', 'jazz christmas', 'lounge', 'new orleans jazz', 'swing', 'vocal jazz']}, {'id': '1Mxqyy3pSjf8kZZL4QVxS0', 'uri': 'spotify:artist:1Mxqyy3pSjf8kZZL4QVxS0', 'name': 'Frank Sinatra', 'followers': {'total': 878593, 'href': None}, 'type': 'artist', 'popularity': 78, 'external_urls': {'spotify': 'https://open.spotify.com/artist/1Mxqyy3pSjf8kZZL4QVxS0'}, 'images': [{'width': 999, 'height': 650, 'url': 'https://i.scdn.co/image/d0a3c1d046165b767e2924dd144882e2944d5dd9'}, {'width': 640, 'height': 416, 'url': 'https://i.scdn.co/image/d4da0d72899bb9267744e5f0c77c6560caac4fa9'}, {'width': 200, 'height': 130, 'url': 'https://i.scdn.co/image/8821d7a555d81884dca496f2c5d19ad906ce9289'}, {'width': 64, 'height': 42, 'url': 'https://i.scdn.co/image/6e842df4553e17b5cfb4d5bf490f17c77a45c138'}], 'href': 'https://api.spotify.com/v1/artists/1Mxqyy3pSjf8kZZL4QVxS0', 'genres': ['adult standards', 'christmas', 'jazz christmas', 'lounge']}, {'id': '1NAWG3AngjBXyKbmPaz92D', 'uri': 'spotify:artist:1NAWG3AngjBXyKbmPaz92D', 'name': 'Sammy Davis Jr.', 'followers': {'total': 30547, 'href': None}, 'type': 'artist', 'popularity': 52, 'external_urls': {'spotify': 'https://open.spotify.com/artist/1NAWG3AngjBXyKbmPaz92D'}, 'images': [{'width': 1000, 'height': 1350, 'url': 'https://i.scdn.co/image/26444939b518af74c9674abad6442eb9e199906d'}, {'width': 640, 'height': 864, 'url': 'https://i.scdn.co/image/5466fdb2473ddaa992904e4761d2fed45be46950'}, {'width': 200, 'height': 270, 'url': 'https://i.scdn.co/image/696a464da87ee2aeb931f86221444a0826604e7a'}, {'width': 64, 'height': 86, 'url': 'https://i.scdn.co/image/a8ba7a72d47d1961c471abac60a121751c17fb24'}], 'href': 'https://api.spotify.com/v1/artists/1NAWG3AngjBXyKbmPaz92D', 'genres': ['adult standards', 'christmas', 'lounge']}, {'id': '1X9iZlQXfAAx4Vvmlqeao7', 'uri': 'spotify:artist:1X9iZlQXfAAx4Vvmlqeao7', 'name': 'Negramaro', 'followers': {'total': 73150, 'href': None}, 'type': 'artist', 'popularity': 63, 'external_urls': {'spotify': 'https://open.spotify.com/artist/1X9iZlQXfAAx4Vvmlqeao7'}, 'images': [{'width': 1000, 'height': 1311, 'url': 'https://i.scdn.co/image/7d35a474d6cbc4ec788863527ef390b29c1dd103'}, {'width': 640, 'height': 839, 'url': 'https://i.scdn.co/image/eb463b383f6e80a4b3560dfb1fda316eb941bbfd'}, {'width': 200, 'height': 262, 'url': 'https://i.scdn.co/image/b813535a81e92fe69e506512c0cfe8a83f98ba51'}, {'width': 64, 'height': 84, 'url': 'https://i.scdn.co/image/622567a50b889db603e41c98a5aa6b2be07285b2'}], 'href': 'https://api.spotify.com/v1/artists/1X9iZlQXfAAx4Vvmlqeao7', 'genres': ['italian pop']}, {'id': '1Xyo4u8uXC1ZmMpatF05PJ', 'uri': 'spotify:artist:1Xyo4u8uXC1ZmMpatF05PJ', 'name': 'The Weeknd', 'followers': {'total': 2211515, 'href': None}, 'type': 'artist', 'popularity': 96, 'external_urls': {'spotify': 'https://open.spotify.com/artist/1Xyo4u8uXC1ZmMpatF05PJ'}, 'images': [{'width': 1000, 'height': 1000, 'url': 'https://i.scdn.co/image/2adb640684adf725303a89f6e132f036f30c82e0'}, {'width': 640, 'height': 640, 'url': 'https://i.scdn.co/image/9b1a420b161580e9c1371a90f7ea915901f37feb'}, {'width': 200, 'height': 200, 'url': 'https://i.scdn.co/image/2b8c98cc542f350d6b7ddf77a525866ce75270d2'}, {'width': 64, 'height': 64, 'url': 'https://i.scdn.co/image/b7a684b6a7300014fe17b93e334b5bea2be9c2a2'}], 'href': 'https://api.spotify.com/v1/artists/1Xyo4u8uXC1ZmMpatF05PJ', 'genres': ['indie r&b']}, {'id': '1aEYCT7t18aM3VvM6y8oVR', 'uri': 'spotify:artist:1aEYCT7t18aM3VvM6y8oVR', 'name': 'Alkaline Trio', 'followers': {'total': 91185, 'href': None}, 'type': 'artist', 'popularity': 61, 'external_urls': {'spotify': 'https://open.spotify.com/artist/1aEYCT7t18aM3VvM6y8oVR'}, 'images': [{'width': 1000, 'height': 809, 'url': 'https://i.scdn.co/image/2dc9be510bbb845dec53152d87de765e2afebf53'}, {'width': 640, 'height': 518, 'url': 'https://i.scdn.co/image/a4cfd85f00b6c886b837dbb4b1a2fb43ec6e4f60'}, {'width': 200, 'height': 162, 'url': 'https://i.scdn.co/image/f96e365033fc325535e21737b575119dd29b34ba'}, {'width': 64, 'height': 52, 'url': 'https://i.scdn.co/image/d432a6a99a8c0a1abdf8f90ee0554d29c06ae226'}], 'href': 'https://api.spotify.com/v1/artists/1aEYCT7t18aM3VvM6y8oVR', 'genres': []}, {'id': '1co4F2pPNH8JjTutZkmgSm', 'uri': 'spotify:artist:1co4F2pPNH8JjTutZkmgSm', 'name': 'Ramones', 'followers': {'total': 329892, 'href': None}, 'type': 'artist', 'popularity': 68, 'external_urls': {'spotify': 'https://open.spotify.com/artist/1co4F2pPNH8JjTutZkmgSm'}, 'images': [{'width': 1000, 'height': 707, 'url': 'https://i.scdn.co/image/84981df34a50d656e541e05cec698f6ae5eb44ed'}, {'width': 640, 'height': 452, 'url': 'https://i.scdn.co/image/0e6fa05d4bc762d7623d4900b25baf8d7d265449'}, {'width': 200, 'height': 141, 'url': 'https://i.scdn.co/image/4fdf2c38bcf9904d8a15b80fc5be2939380ed78a'}, {'width': 64, 'height': 45, 'url': 'https://i.scdn.co/image/ed6f696d8ce12c0bd299bbeedffa7efec8216c77'}], 'href': 'https://api.spotify.com/v1/artists/1co4F2pPNH8JjTutZkmgSm', 'genres': ['punk']}, {'id': '1mbgj8ERPs8lWi7t5cYrdy', 'uri': 'spotify:artist:1mbgj8ERPs8lWi7t5cYrdy', 'name': 'Zaz', 'followers': {'total': 258414, 'href': None}, 'type': 'artist', 'popularity': 65, 'external_urls': {'spotify': 'https://open.spotify.com/artist/1mbgj8ERPs8lWi7t5cYrdy'}, 'images': [{'width': 1000, 'height': 667, 'url': 'https://i.scdn.co/image/81e0345df7eed14666c90f3d307d5ee6beef1e9c'}, {'width': 640, 'height': 427, 'url': 'https://i.scdn.co/image/131c6f83d5fb428d63c67f0bb48edce8fe52ac69'}, {'width': 200, 'height': 133, 'url': 'https://i.scdn.co/image/25ab7f1ddf005572b9afc53b76df92f19ad60a66'}, {'width': 64, 'height': 43, 'url': 'https://i.scdn.co/image/6cf21d8108198b5c4c3ed07138217fc6061f4b86'}], 'href': 'https://api.spotify.com/v1/artists/1mbgj8ERPs8lWi7t5cYrdy', 'genres': []}, {'id': '1moxjboGR7GNWYIMWsRjgG', 'uri': 'spotify:artist:1moxjboGR7GNWYIMWsRjgG', 'name': 'Florence + The Machine', 'followers': {'total': 2282052, 'href': None}, 'type': 'artist', 'popularity': 81, 'external_urls': {'spotify': 'https://open.spotify.com/artist/1moxjboGR7GNWYIMWsRjgG'}, 'images': [{'width': 1000, 'height': 1000, 'url': 'https://i.scdn.co/image/830d7ee17a91bc17cebd36ba0cb8929e53c7bdc4'}, {'width': 640, 'height': 640, 'url': 'https://i.scdn.co/image/1ee25f5cb0830ad970cfad98c74cbd8a39d03323'}, {'width': 200, 'height': 200, 'url': 'https://i.scdn.co/image/95d882f7d2afac3dfdb74867fd4e91dcfaefed97'}, {'width': 64, 'height': 64, 'url': 'https://i.scdn.co/image/6aa9c3654c9be96fc90f9d5661c95862a91db44e'}], 'href': 'https://api.spotify.com/v1/artists/1moxjboGR7GNWYIMWsRjgG', 'genres': []}], 'href': 'https://api.spotify.com/v1/me/following?type=artist&limit=20'}\n"
     ]
    }
   ],
   "source": [
    "#Lets take a look at how the weekly count looks like.\n",
    "print(ayf[\"artists\"])"
   ]
  },
  {
   "cell_type": "code",
   "execution_count": 15,
   "metadata": {
    "collapsed": true
   },
   "outputs": [],
   "source": [
    "artists = ayf[\"artists\"]"
   ]
  },
  {
   "cell_type": "code",
   "execution_count": 16,
   "metadata": {
    "collapsed": false
   },
   "outputs": [
    {
     "name": "stdout",
     "output_type": "stream",
     "text": [
      "[{'id': '00FQb4jTyendYWaN8pK0wa', 'uri': 'spotify:artist:00FQb4jTyendYWaN8pK0wa', 'name': 'Lana Del Rey', 'followers': {'total': 3731148, 'href': None}, 'type': 'artist', 'popularity': 87, 'external_urls': {'spotify': 'https://open.spotify.com/artist/00FQb4jTyendYWaN8pK0wa'}, 'images': [{'width': 1000, 'height': 1000, 'url': 'https://i.scdn.co/image/15f34b9bf2867358d36a6e9c60ed0dacf29a6340'}, {'width': 640, 'height': 640, 'url': 'https://i.scdn.co/image/ded8fcabfe5e7b0942ab3ea994e3706d29ded486'}, {'width': 200, 'height': 200, 'url': 'https://i.scdn.co/image/93faca95dacd3c37eb9ffcfe66aca0a4c8f8da05'}, {'width': 64, 'height': 64, 'url': 'https://i.scdn.co/image/01c6586efc099f4c888fab8c860c7893ae7ba9dc'}], 'href': 'https://api.spotify.com/v1/artists/00FQb4jTyendYWaN8pK0wa', 'genres': []}, {'id': '07YZf4WDAMNwqr4jfgOZ8y', 'uri': 'spotify:artist:07YZf4WDAMNwqr4jfgOZ8y', 'name': 'Jason Derulo', 'followers': {'total': 1654623, 'href': None}, 'type': 'artist', 'popularity': 87, 'external_urls': {'spotify': 'https://open.spotify.com/artist/07YZf4WDAMNwqr4jfgOZ8y'}, 'images': [{'width': 1000, 'height': 1389, 'url': 'https://i.scdn.co/image/f7460230a0b089d7d7b77336f8b8533777ca6a16'}, {'width': 640, 'height': 889, 'url': 'https://i.scdn.co/image/e0254254376322dc83067652cc5f955ae999e1cd'}, {'width': 200, 'height': 278, 'url': 'https://i.scdn.co/image/dcdacc8d0e03a3c497b17254551b156410b43dc1'}, {'width': 64, 'height': 89, 'url': 'https://i.scdn.co/image/da6dbdfbb04aaeb7896ad732900fa3b5c546e904'}], 'href': 'https://api.spotify.com/v1/artists/07YZf4WDAMNwqr4jfgOZ8y', 'genres': []}, {'id': '0YrtvWJMgSdVrk3SfNjTbx', 'uri': 'spotify:artist:0YrtvWJMgSdVrk3SfNjTbx', 'name': 'Death Cab for Cutie', 'followers': {'total': 526781, 'href': None}, 'type': 'artist', 'popularity': 73, 'external_urls': {'spotify': 'https://open.spotify.com/artist/0YrtvWJMgSdVrk3SfNjTbx'}, 'images': [{'width': 1000, 'height': 750, 'url': 'https://i.scdn.co/image/764d9d5942f0574b381fa7e875bc4957ad8e59ba'}, {'width': 640, 'height': 480, 'url': 'https://i.scdn.co/image/31e57a3304880c29369efe8a95bf76c0b6dbd7ac'}, {'width': 200, 'height': 150, 'url': 'https://i.scdn.co/image/802a3b57bf4f7054311807c64388fd0c0e643130'}, {'width': 64, 'height': 48, 'url': 'https://i.scdn.co/image/f8e6434e5beccbd6df80665c48047b8df0c3189a'}], 'href': 'https://api.spotify.com/v1/artists/0YrtvWJMgSdVrk3SfNjTbx', 'genres': []}, {'id': '0ZrpamOxcZybMHGg1AYtHP', 'uri': 'spotify:artist:0ZrpamOxcZybMHGg1AYtHP', 'name': 'Robin Thicke', 'followers': {'total': 509918, 'href': None}, 'type': 'artist', 'popularity': 81, 'external_urls': {'spotify': 'https://open.spotify.com/artist/0ZrpamOxcZybMHGg1AYtHP'}, 'images': [{'width': 900, 'height': 600, 'url': 'https://i.scdn.co/image/7eac395ec642b5beb349c2d8c9c69d5a6ce0483a'}, {'width': 640, 'height': 427, 'url': 'https://i.scdn.co/image/487a25f02d62720d9e12cd3a92f76cc49d271812'}, {'width': 200, 'height': 133, 'url': 'https://i.scdn.co/image/7ca00b5679f0e1846efbac87efc04cb9e3e69bb4'}, {'width': 64, 'height': 43, 'url': 'https://i.scdn.co/image/d95a8d6ddab7b0a73e2b075ae40071a435602017'}], 'href': 'https://api.spotify.com/v1/artists/0ZrpamOxcZybMHGg1AYtHP', 'genres': ['r&b']}, {'id': '0a1gHP0HAqALbEyxaD5Ngn', 'uri': 'spotify:artist:0a1gHP0HAqALbEyxaD5Ngn', 'name': 'Rascal Flatts', 'followers': {'total': 442674, 'href': None}, 'type': 'artist', 'popularity': 72, 'external_urls': {'spotify': 'https://open.spotify.com/artist/0a1gHP0HAqALbEyxaD5Ngn'}, 'images': [{'width': 1000, 'height': 667, 'url': 'https://i.scdn.co/image/9eab4c6ef2d1b5b9a3a6cac281df8440d261af44'}, {'width': 640, 'height': 427, 'url': 'https://i.scdn.co/image/819a4083cd3c8a4fcc640eda718ec2b05f5365a8'}, {'width': 200, 'height': 133, 'url': 'https://i.scdn.co/image/8642e0662d87fcb3d6bcd2473cfdcce314556a97'}, {'width': 64, 'height': 43, 'url': 'https://i.scdn.co/image/4eaeab7d6e59c1768dc010bac7145aa27bab177d'}], 'href': 'https://api.spotify.com/v1/artists/0a1gHP0HAqALbEyxaD5Ngn', 'genres': ['contemporary country']}, {'id': '0du5cEVh5yTK9QJze8zA0C', 'uri': 'spotify:artist:0du5cEVh5yTK9QJze8zA0C', 'name': 'Bruno Mars', 'followers': {'total': 3896376, 'href': None}, 'type': 'artist', 'popularity': 87, 'external_urls': {'spotify': 'https://open.spotify.com/artist/0du5cEVh5yTK9QJze8zA0C'}, 'images': [{'width': 500, 'height': 500, 'url': 'https://i.scdn.co/image/f22774ca7d636e724164a65b2601ab39538a3aed'}, {'width': 200, 'height': 200, 'url': 'https://i.scdn.co/image/9b0ac8d5ed8158cd2f00213d8b73e48fa49e63c8'}, {'width': 64, 'height': 64, 'url': 'https://i.scdn.co/image/131364fe54e48e36c39ec96eea47656855404f9b'}], 'href': 'https://api.spotify.com/v1/artists/0du5cEVh5yTK9QJze8zA0C', 'genres': ['pop']}, {'id': '0hYxQe3AK5jBPCr5MumLHD', 'uri': 'spotify:artist:0hYxQe3AK5jBPCr5MumLHD', 'name': 'Sugarland', 'followers': {'total': 138222, 'href': None}, 'type': 'artist', 'popularity': 58, 'external_urls': {'spotify': 'https://open.spotify.com/artist/0hYxQe3AK5jBPCr5MumLHD'}, 'images': [{'width': 1000, 'height': 563, 'url': 'https://i.scdn.co/image/4019d38663b9dd2500ecd426d5aa7c7c9e1f7d30'}, {'width': 640, 'height': 360, 'url': 'https://i.scdn.co/image/b6a9c458ca831633476e0e117b4fe32db498f7a3'}, {'width': 200, 'height': 113, 'url': 'https://i.scdn.co/image/2103a870a2acb3afa86656887f87e7f2fa74ce00'}, {'width': 64, 'height': 36, 'url': 'https://i.scdn.co/image/5a28be241e29d25ac364da002e5ca132c32c0a0a'}], 'href': 'https://api.spotify.com/v1/artists/0hYxQe3AK5jBPCr5MumLHD', 'genres': ['contemporary country', 'country dawn']}, {'id': '0rvjqX7ttXeg3mTy8Xscbt', 'uri': 'spotify:artist:0rvjqX7ttXeg3mTy8Xscbt', 'name': 'Journey', 'followers': {'total': 425567, 'href': None}, 'type': 'artist', 'popularity': 74, 'external_urls': {'spotify': 'https://open.spotify.com/artist/0rvjqX7ttXeg3mTy8Xscbt'}, 'images': [{'width': 1000, 'height': 939, 'url': 'https://i.scdn.co/image/992312bff2d78c3f65665d7ff69efcf617d9c01e'}, {'width': 640, 'height': 601, 'url': 'https://i.scdn.co/image/44e7145c3f0bfbb0dab2ca215dd2dd1d4ccc1f36'}, {'width': 200, 'height': 188, 'url': 'https://i.scdn.co/image/6a29e8ee47711658f4332e851560de9c6b915c4f'}, {'width': 64, 'height': 60, 'url': 'https://i.scdn.co/image/a12996d7d13983083d39d6639e51b35d503318c7'}], 'href': 'https://api.spotify.com/v1/artists/0rvjqX7ttXeg3mTy8Xscbt', 'genres': ['album rock']}, {'id': '11kBu957KTYoAltZHDm8gW', 'uri': 'spotify:artist:11kBu957KTYoAltZHDm8gW', 'name': 'Buena Vista Social Club', 'followers': {'total': 188720, 'href': None}, 'type': 'artist', 'popularity': 65, 'external_urls': {'spotify': 'https://open.spotify.com/artist/11kBu957KTYoAltZHDm8gW'}, 'images': [{'width': 1000, 'height': 1000, 'url': 'https://i.scdn.co/image/5d20d6f8d14f216a770d1aa461dd5091938f9aa9'}, {'width': 640, 'height': 640, 'url': 'https://i.scdn.co/image/9542d171203522de67c83f0deaf855519b3c4438'}, {'width': 200, 'height': 200, 'url': 'https://i.scdn.co/image/00781c9344c72e8f30540377ad03ea7bfc3173f6'}, {'width': 64, 'height': 64, 'url': 'https://i.scdn.co/image/8af818b63f191e9dc26c60ca99f3334aaa07dfcd'}], 'href': 'https://api.spotify.com/v1/artists/11kBu957KTYoAltZHDm8gW', 'genres': []}, {'id': '137W8MRPWKqSmrBGDBFSop', 'uri': 'spotify:artist:137W8MRPWKqSmrBGDBFSop', 'name': 'Wiz Khalifa', 'followers': {'total': 2676396, 'href': None}, 'type': 'artist', 'popularity': 90, 'external_urls': {'spotify': 'https://open.spotify.com/artist/137W8MRPWKqSmrBGDBFSop'}, 'images': [{'width': 900, 'height': 1200, 'url': 'https://i.scdn.co/image/6fcf0a3556f9edf47f4d17c33a48418a3d2e6bce'}, {'width': 640, 'height': 853, 'url': 'https://i.scdn.co/image/d803a20e1402bf2c46353c97d929a3f28c27366e'}, {'width': 200, 'height': 267, 'url': 'https://i.scdn.co/image/0d706a776e505ad54968f389e4c6b820a7615562'}, {'width': 64, 'height': 85, 'url': 'https://i.scdn.co/image/534b45d0038ca0142b50dcc3f338a8fdd9caa949'}], 'href': 'https://api.spotify.com/v1/artists/137W8MRPWKqSmrBGDBFSop', 'genres': ['alternative hip hop', 'pop rap']}, {'id': '163tK9Wjr9P9DmM0AVK7lm', 'uri': 'spotify:artist:163tK9Wjr9P9DmM0AVK7lm', 'name': 'Lorde', 'followers': {'total': 1471414, 'href': None}, 'type': 'artist', 'popularity': 81, 'external_urls': {'spotify': 'https://open.spotify.com/artist/163tK9Wjr9P9DmM0AVK7lm'}, 'images': [{'width': 673, 'height': 608, 'url': 'https://i.scdn.co/image/02c4a43ced9e85812d29573e5ca1c055f4e77b76'}, {'width': 640, 'height': 578, 'url': 'https://i.scdn.co/image/b6f0711f652e6f0540018f721c6ee19aae13fc79'}, {'width': 200, 'height': 181, 'url': 'https://i.scdn.co/image/b85b3c472ae36e9ade51828f1813f345b03bea73'}, {'width': 64, 'height': 58, 'url': 'https://i.scdn.co/image/a2c01c1d71fba9323806a9befdd6b31706ec91cd'}], 'href': 'https://api.spotify.com/v1/artists/163tK9Wjr9P9DmM0AVK7lm', 'genres': []}, {'id': '19eLuQmk9aCobbVDHc6eek', 'uri': 'spotify:artist:19eLuQmk9aCobbVDHc6eek', 'name': 'Louis Armstrong', 'followers': {'total': 267398, 'href': None}, 'type': 'artist', 'popularity': 71, 'external_urls': {'spotify': 'https://open.spotify.com/artist/19eLuQmk9aCobbVDHc6eek'}, 'images': [{'width': 1000, 'height': 1166, 'url': 'https://i.scdn.co/image/7e61be280d4f457b89d563be6b2a11e8ef9e67f3'}, {'width': 640, 'height': 747, 'url': 'https://i.scdn.co/image/097a40d4cd2539ab588bc6c7daff04eb06157ca6'}, {'width': 200, 'height': 233, 'url': 'https://i.scdn.co/image/da867b62c0fd0e718b258cf0ada26887624e2346'}, {'width': 64, 'height': 75, 'url': 'https://i.scdn.co/image/187487992eee93ac0b73456f4d3295e6ea370c68'}], 'href': 'https://api.spotify.com/v1/artists/19eLuQmk9aCobbVDHc6eek', 'genres': ['cabaret', 'dixieland', 'jazz christmas', 'lounge', 'new orleans jazz', 'swing', 'vocal jazz']}, {'id': '1Mxqyy3pSjf8kZZL4QVxS0', 'uri': 'spotify:artist:1Mxqyy3pSjf8kZZL4QVxS0', 'name': 'Frank Sinatra', 'followers': {'total': 878593, 'href': None}, 'type': 'artist', 'popularity': 78, 'external_urls': {'spotify': 'https://open.spotify.com/artist/1Mxqyy3pSjf8kZZL4QVxS0'}, 'images': [{'width': 999, 'height': 650, 'url': 'https://i.scdn.co/image/d0a3c1d046165b767e2924dd144882e2944d5dd9'}, {'width': 640, 'height': 416, 'url': 'https://i.scdn.co/image/d4da0d72899bb9267744e5f0c77c6560caac4fa9'}, {'width': 200, 'height': 130, 'url': 'https://i.scdn.co/image/8821d7a555d81884dca496f2c5d19ad906ce9289'}, {'width': 64, 'height': 42, 'url': 'https://i.scdn.co/image/6e842df4553e17b5cfb4d5bf490f17c77a45c138'}], 'href': 'https://api.spotify.com/v1/artists/1Mxqyy3pSjf8kZZL4QVxS0', 'genres': ['adult standards', 'christmas', 'jazz christmas', 'lounge']}, {'id': '1NAWG3AngjBXyKbmPaz92D', 'uri': 'spotify:artist:1NAWG3AngjBXyKbmPaz92D', 'name': 'Sammy Davis Jr.', 'followers': {'total': 30547, 'href': None}, 'type': 'artist', 'popularity': 52, 'external_urls': {'spotify': 'https://open.spotify.com/artist/1NAWG3AngjBXyKbmPaz92D'}, 'images': [{'width': 1000, 'height': 1350, 'url': 'https://i.scdn.co/image/26444939b518af74c9674abad6442eb9e199906d'}, {'width': 640, 'height': 864, 'url': 'https://i.scdn.co/image/5466fdb2473ddaa992904e4761d2fed45be46950'}, {'width': 200, 'height': 270, 'url': 'https://i.scdn.co/image/696a464da87ee2aeb931f86221444a0826604e7a'}, {'width': 64, 'height': 86, 'url': 'https://i.scdn.co/image/a8ba7a72d47d1961c471abac60a121751c17fb24'}], 'href': 'https://api.spotify.com/v1/artists/1NAWG3AngjBXyKbmPaz92D', 'genres': ['adult standards', 'christmas', 'lounge']}, {'id': '1X9iZlQXfAAx4Vvmlqeao7', 'uri': 'spotify:artist:1X9iZlQXfAAx4Vvmlqeao7', 'name': 'Negramaro', 'followers': {'total': 73150, 'href': None}, 'type': 'artist', 'popularity': 63, 'external_urls': {'spotify': 'https://open.spotify.com/artist/1X9iZlQXfAAx4Vvmlqeao7'}, 'images': [{'width': 1000, 'height': 1311, 'url': 'https://i.scdn.co/image/7d35a474d6cbc4ec788863527ef390b29c1dd103'}, {'width': 640, 'height': 839, 'url': 'https://i.scdn.co/image/eb463b383f6e80a4b3560dfb1fda316eb941bbfd'}, {'width': 200, 'height': 262, 'url': 'https://i.scdn.co/image/b813535a81e92fe69e506512c0cfe8a83f98ba51'}, {'width': 64, 'height': 84, 'url': 'https://i.scdn.co/image/622567a50b889db603e41c98a5aa6b2be07285b2'}], 'href': 'https://api.spotify.com/v1/artists/1X9iZlQXfAAx4Vvmlqeao7', 'genres': ['italian pop']}, {'id': '1Xyo4u8uXC1ZmMpatF05PJ', 'uri': 'spotify:artist:1Xyo4u8uXC1ZmMpatF05PJ', 'name': 'The Weeknd', 'followers': {'total': 2211515, 'href': None}, 'type': 'artist', 'popularity': 96, 'external_urls': {'spotify': 'https://open.spotify.com/artist/1Xyo4u8uXC1ZmMpatF05PJ'}, 'images': [{'width': 1000, 'height': 1000, 'url': 'https://i.scdn.co/image/2adb640684adf725303a89f6e132f036f30c82e0'}, {'width': 640, 'height': 640, 'url': 'https://i.scdn.co/image/9b1a420b161580e9c1371a90f7ea915901f37feb'}, {'width': 200, 'height': 200, 'url': 'https://i.scdn.co/image/2b8c98cc542f350d6b7ddf77a525866ce75270d2'}, {'width': 64, 'height': 64, 'url': 'https://i.scdn.co/image/b7a684b6a7300014fe17b93e334b5bea2be9c2a2'}], 'href': 'https://api.spotify.com/v1/artists/1Xyo4u8uXC1ZmMpatF05PJ', 'genres': ['indie r&b']}, {'id': '1aEYCT7t18aM3VvM6y8oVR', 'uri': 'spotify:artist:1aEYCT7t18aM3VvM6y8oVR', 'name': 'Alkaline Trio', 'followers': {'total': 91185, 'href': None}, 'type': 'artist', 'popularity': 61, 'external_urls': {'spotify': 'https://open.spotify.com/artist/1aEYCT7t18aM3VvM6y8oVR'}, 'images': [{'width': 1000, 'height': 809, 'url': 'https://i.scdn.co/image/2dc9be510bbb845dec53152d87de765e2afebf53'}, {'width': 640, 'height': 518, 'url': 'https://i.scdn.co/image/a4cfd85f00b6c886b837dbb4b1a2fb43ec6e4f60'}, {'width': 200, 'height': 162, 'url': 'https://i.scdn.co/image/f96e365033fc325535e21737b575119dd29b34ba'}, {'width': 64, 'height': 52, 'url': 'https://i.scdn.co/image/d432a6a99a8c0a1abdf8f90ee0554d29c06ae226'}], 'href': 'https://api.spotify.com/v1/artists/1aEYCT7t18aM3VvM6y8oVR', 'genres': []}, {'id': '1co4F2pPNH8JjTutZkmgSm', 'uri': 'spotify:artist:1co4F2pPNH8JjTutZkmgSm', 'name': 'Ramones', 'followers': {'total': 329892, 'href': None}, 'type': 'artist', 'popularity': 68, 'external_urls': {'spotify': 'https://open.spotify.com/artist/1co4F2pPNH8JjTutZkmgSm'}, 'images': [{'width': 1000, 'height': 707, 'url': 'https://i.scdn.co/image/84981df34a50d656e541e05cec698f6ae5eb44ed'}, {'width': 640, 'height': 452, 'url': 'https://i.scdn.co/image/0e6fa05d4bc762d7623d4900b25baf8d7d265449'}, {'width': 200, 'height': 141, 'url': 'https://i.scdn.co/image/4fdf2c38bcf9904d8a15b80fc5be2939380ed78a'}, {'width': 64, 'height': 45, 'url': 'https://i.scdn.co/image/ed6f696d8ce12c0bd299bbeedffa7efec8216c77'}], 'href': 'https://api.spotify.com/v1/artists/1co4F2pPNH8JjTutZkmgSm', 'genres': ['punk']}, {'id': '1mbgj8ERPs8lWi7t5cYrdy', 'uri': 'spotify:artist:1mbgj8ERPs8lWi7t5cYrdy', 'name': 'Zaz', 'followers': {'total': 258414, 'href': None}, 'type': 'artist', 'popularity': 65, 'external_urls': {'spotify': 'https://open.spotify.com/artist/1mbgj8ERPs8lWi7t5cYrdy'}, 'images': [{'width': 1000, 'height': 667, 'url': 'https://i.scdn.co/image/81e0345df7eed14666c90f3d307d5ee6beef1e9c'}, {'width': 640, 'height': 427, 'url': 'https://i.scdn.co/image/131c6f83d5fb428d63c67f0bb48edce8fe52ac69'}, {'width': 200, 'height': 133, 'url': 'https://i.scdn.co/image/25ab7f1ddf005572b9afc53b76df92f19ad60a66'}, {'width': 64, 'height': 43, 'url': 'https://i.scdn.co/image/6cf21d8108198b5c4c3ed07138217fc6061f4b86'}], 'href': 'https://api.spotify.com/v1/artists/1mbgj8ERPs8lWi7t5cYrdy', 'genres': []}, {'id': '1moxjboGR7GNWYIMWsRjgG', 'uri': 'spotify:artist:1moxjboGR7GNWYIMWsRjgG', 'name': 'Florence + The Machine', 'followers': {'total': 2282052, 'href': None}, 'type': 'artist', 'popularity': 81, 'external_urls': {'spotify': 'https://open.spotify.com/artist/1moxjboGR7GNWYIMWsRjgG'}, 'images': [{'width': 1000, 'height': 1000, 'url': 'https://i.scdn.co/image/830d7ee17a91bc17cebd36ba0cb8929e53c7bdc4'}, {'width': 640, 'height': 640, 'url': 'https://i.scdn.co/image/1ee25f5cb0830ad970cfad98c74cbd8a39d03323'}, {'width': 200, 'height': 200, 'url': 'https://i.scdn.co/image/95d882f7d2afac3dfdb74867fd4e91dcfaefed97'}, {'width': 64, 'height': 64, 'url': 'https://i.scdn.co/image/6aa9c3654c9be96fc90f9d5661c95862a91db44e'}], 'href': 'https://api.spotify.com/v1/artists/1moxjboGR7GNWYIMWsRjgG', 'genres': []}]\n"
     ]
    }
   ],
   "source": [
    "print(artists[\"items\"])"
   ]
  },
  {
   "cell_type": "code",
   "execution_count": 17,
   "metadata": {
    "collapsed": true
   },
   "outputs": [],
   "source": [
    "items = artists[\"items\"]"
   ]
  },
  {
   "cell_type": "code",
   "execution_count": 18,
   "metadata": {
    "collapsed": false
   },
   "outputs": [],
   "source": [
    "Artistslist = []\n",
    "\n",
    "for i in range(len(items)):\n",
    "    Artistslist.append(items[i][\"name\"])"
   ]
  },
  {
   "cell_type": "code",
   "execution_count": 19,
   "metadata": {
    "collapsed": false
   },
   "outputs": [
    {
     "data": {
      "text/plain": [
       "['Lana Del Rey',\n",
       " 'Jason Derulo',\n",
       " 'Death Cab for Cutie',\n",
       " 'Robin Thicke',\n",
       " 'Rascal Flatts',\n",
       " 'Bruno Mars',\n",
       " 'Sugarland',\n",
       " 'Journey',\n",
       " 'Buena Vista Social Club',\n",
       " 'Wiz Khalifa',\n",
       " 'Lorde',\n",
       " 'Louis Armstrong',\n",
       " 'Frank Sinatra',\n",
       " 'Sammy Davis Jr.',\n",
       " 'Negramaro',\n",
       " 'The Weeknd',\n",
       " 'Alkaline Trio',\n",
       " 'Ramones',\n",
       " 'Zaz',\n",
       " 'Florence + The Machine']"
      ]
     },
     "execution_count": 19,
     "metadata": {},
     "output_type": "execute_result"
    }
   ],
   "source": [
    "Artistslist"
   ]
  },
  {
   "cell_type": "code",
   "execution_count": 3,
   "metadata": {
    "collapsed": false
   },
   "outputs": [],
   "source": [
    "exampleSearch = 'Lana del rey'"
   ]
  },
  {
   "cell_type": "code",
   "execution_count": 7,
   "metadata": {
    "collapsed": false
   },
   "outputs": [],
   "source": [
    "encoded = urllib.parse.quote(exampleSearch)"
   ]
  },
  {
   "cell_type": "code",
   "execution_count": 28,
   "metadata": {
    "collapsed": false
   },
   "outputs": [],
   "source": [
    "artistencoded = []\n",
    "\n",
    "for i in range(len(Artistslist)):\n",
    "    artistencoded.append(urllib.parse.quote(Artistslist[i]))"
   ]
  },
  {
   "cell_type": "code",
   "execution_count": 29,
   "metadata": {
    "collapsed": false
   },
   "outputs": [
    {
     "data": {
      "text/plain": [
       "['Lana%20Del%20Rey',\n",
       " 'Jason%20Derulo',\n",
       " 'Death%20Cab%20for%20Cutie',\n",
       " 'Robin%20Thicke',\n",
       " 'Rascal%20Flatts',\n",
       " 'Bruno%20Mars',\n",
       " 'Sugarland',\n",
       " 'Journey',\n",
       " 'Buena%20Vista%20Social%20Club',\n",
       " 'Wiz%20Khalifa',\n",
       " 'Lorde',\n",
       " 'Louis%20Armstrong',\n",
       " 'Frank%20Sinatra',\n",
       " 'Sammy%20Davis%20Jr.',\n",
       " 'Negramaro',\n",
       " 'The%20Weeknd',\n",
       " 'Alkaline%20Trio',\n",
       " 'Ramones',\n",
       " 'Zaz',\n",
       " 'Florence%20%2B%20The%20Machine']"
      ]
     },
     "execution_count": 29,
     "metadata": {},
     "output_type": "execute_result"
    }
   ],
   "source": [
    "artistencoded"
   ]
  },
  {
   "cell_type": "code",
   "execution_count": 35,
   "metadata": {
    "collapsed": false
   },
   "outputs": [],
   "source": [
    "RawData = urllib.request.urlopen('https://www.google.com/webhp?sourceid=chrome-instant&ion=1&espv=2&ie=UTF-8#q'+artistencoded[0]).read()"
   ]
  },
  {
   "cell_type": "code",
   "execution_count": 65,
   "metadata": {
    "collapsed": false
   },
   "outputs": [
    {
     "name": "stdout",
     "output_type": "stream",
     "text": [
      "  0 Here\n",
      "  1 Pink Moon\n",
      "  2 Just Give Me a Reason\n",
      "  3 Super Bass\n",
      "  4 The Weight - 2000 - Remaster\n",
      "  5 Starships\n",
      "  6 Four Pink Walls\n",
      "  7 Four Pink Walls\n",
      "  8 Today's The Day\n",
      "  9 Try\n",
      "  10 Seventeen\n",
      "  11 Wish You Were Here - 2011 Remastered Version\n",
      "  12 Pink Frost\n",
      "  13 Raise Your Glass\n",
      "  14 I'm Yours\n",
      "  15 F**kin' Perfect\n",
      "  16 Pink\n",
      "  17 Moment 4 Life\n",
      "  18 So What\n",
      "  19 Money - 2011 Remastered Version\n"
     ]
    }
   ],
   "source": [
    "sp = spotipy.Spotify()\n",
    "\n",
    "results = sp.search(q='pink', limit=20)\n",
    "for i, t in enumerate(results['tracks']['items']):\n",
    "    print(' ', i, t['name'])"
   ]
  },
  {
   "cell_type": "code",
   "execution_count": 61,
   "metadata": {
    "collapsed": false
   },
   "outputs": [],
   "source": [
    "Duets = []\n",
    "\n",
    "for i in range(len(Artistslist)):\n",
    "    for j in range(i+1,len(Artistslist)):\n",
    "        M = '%s %s % s' % (Artistslist[i],'and', Artistslist[j]) \n",
    "        Duets.append(M)"
   ]
  },
  {
   "cell_type": "code",
   "execution_count": 62,
   "metadata": {
    "collapsed": false
   },
   "outputs": [
    {
     "data": {
      "text/plain": [
       "['Lana Del Rey and Jason Derulo',\n",
       " 'Lana Del Rey and Death Cab for Cutie',\n",
       " 'Lana Del Rey and Robin Thicke',\n",
       " 'Lana Del Rey and Rascal Flatts',\n",
       " 'Lana Del Rey and Bruno Mars',\n",
       " 'Lana Del Rey and Sugarland',\n",
       " 'Lana Del Rey and Journey',\n",
       " 'Lana Del Rey and Buena Vista Social Club',\n",
       " 'Lana Del Rey and Wiz Khalifa',\n",
       " 'Lana Del Rey and Lorde',\n",
       " 'Lana Del Rey and Louis Armstrong',\n",
       " 'Lana Del Rey and Frank Sinatra',\n",
       " 'Lana Del Rey and Sammy Davis Jr.',\n",
       " 'Lana Del Rey and Negramaro',\n",
       " 'Lana Del Rey and The Weeknd',\n",
       " 'Lana Del Rey and Alkaline Trio',\n",
       " 'Lana Del Rey and Ramones',\n",
       " 'Lana Del Rey and Zaz',\n",
       " 'Lana Del Rey and Florence + The Machine',\n",
       " 'Jason Derulo and Death Cab for Cutie',\n",
       " 'Jason Derulo and Robin Thicke',\n",
       " 'Jason Derulo and Rascal Flatts',\n",
       " 'Jason Derulo and Bruno Mars',\n",
       " 'Jason Derulo and Sugarland',\n",
       " 'Jason Derulo and Journey',\n",
       " 'Jason Derulo and Buena Vista Social Club',\n",
       " 'Jason Derulo and Wiz Khalifa',\n",
       " 'Jason Derulo and Lorde',\n",
       " 'Jason Derulo and Louis Armstrong',\n",
       " 'Jason Derulo and Frank Sinatra',\n",
       " 'Jason Derulo and Sammy Davis Jr.',\n",
       " 'Jason Derulo and Negramaro',\n",
       " 'Jason Derulo and The Weeknd',\n",
       " 'Jason Derulo and Alkaline Trio',\n",
       " 'Jason Derulo and Ramones',\n",
       " 'Jason Derulo and Zaz',\n",
       " 'Jason Derulo and Florence + The Machine',\n",
       " 'Death Cab for Cutie and Robin Thicke',\n",
       " 'Death Cab for Cutie and Rascal Flatts',\n",
       " 'Death Cab for Cutie and Bruno Mars',\n",
       " 'Death Cab for Cutie and Sugarland',\n",
       " 'Death Cab for Cutie and Journey',\n",
       " 'Death Cab for Cutie and Buena Vista Social Club',\n",
       " 'Death Cab for Cutie and Wiz Khalifa',\n",
       " 'Death Cab for Cutie and Lorde',\n",
       " 'Death Cab for Cutie and Louis Armstrong',\n",
       " 'Death Cab for Cutie and Frank Sinatra',\n",
       " 'Death Cab for Cutie and Sammy Davis Jr.',\n",
       " 'Death Cab for Cutie and Negramaro',\n",
       " 'Death Cab for Cutie and The Weeknd',\n",
       " 'Death Cab for Cutie and Alkaline Trio',\n",
       " 'Death Cab for Cutie and Ramones',\n",
       " 'Death Cab for Cutie and Zaz',\n",
       " 'Death Cab for Cutie and Florence + The Machine',\n",
       " 'Robin Thicke and Rascal Flatts',\n",
       " 'Robin Thicke and Bruno Mars',\n",
       " 'Robin Thicke and Sugarland',\n",
       " 'Robin Thicke and Journey',\n",
       " 'Robin Thicke and Buena Vista Social Club',\n",
       " 'Robin Thicke and Wiz Khalifa',\n",
       " 'Robin Thicke and Lorde',\n",
       " 'Robin Thicke and Louis Armstrong',\n",
       " 'Robin Thicke and Frank Sinatra',\n",
       " 'Robin Thicke and Sammy Davis Jr.',\n",
       " 'Robin Thicke and Negramaro',\n",
       " 'Robin Thicke and The Weeknd',\n",
       " 'Robin Thicke and Alkaline Trio',\n",
       " 'Robin Thicke and Ramones',\n",
       " 'Robin Thicke and Zaz',\n",
       " 'Robin Thicke and Florence + The Machine',\n",
       " 'Rascal Flatts and Bruno Mars',\n",
       " 'Rascal Flatts and Sugarland',\n",
       " 'Rascal Flatts and Journey',\n",
       " 'Rascal Flatts and Buena Vista Social Club',\n",
       " 'Rascal Flatts and Wiz Khalifa',\n",
       " 'Rascal Flatts and Lorde',\n",
       " 'Rascal Flatts and Louis Armstrong',\n",
       " 'Rascal Flatts and Frank Sinatra',\n",
       " 'Rascal Flatts and Sammy Davis Jr.',\n",
       " 'Rascal Flatts and Negramaro',\n",
       " 'Rascal Flatts and The Weeknd',\n",
       " 'Rascal Flatts and Alkaline Trio',\n",
       " 'Rascal Flatts and Ramones',\n",
       " 'Rascal Flatts and Zaz',\n",
       " 'Rascal Flatts and Florence + The Machine',\n",
       " 'Bruno Mars and Sugarland',\n",
       " 'Bruno Mars and Journey',\n",
       " 'Bruno Mars and Buena Vista Social Club',\n",
       " 'Bruno Mars and Wiz Khalifa',\n",
       " 'Bruno Mars and Lorde',\n",
       " 'Bruno Mars and Louis Armstrong',\n",
       " 'Bruno Mars and Frank Sinatra',\n",
       " 'Bruno Mars and Sammy Davis Jr.',\n",
       " 'Bruno Mars and Negramaro',\n",
       " 'Bruno Mars and The Weeknd',\n",
       " 'Bruno Mars and Alkaline Trio',\n",
       " 'Bruno Mars and Ramones',\n",
       " 'Bruno Mars and Zaz',\n",
       " 'Bruno Mars and Florence + The Machine',\n",
       " 'Sugarland and Journey',\n",
       " 'Sugarland and Buena Vista Social Club',\n",
       " 'Sugarland and Wiz Khalifa',\n",
       " 'Sugarland and Lorde',\n",
       " 'Sugarland and Louis Armstrong',\n",
       " 'Sugarland and Frank Sinatra',\n",
       " 'Sugarland and Sammy Davis Jr.',\n",
       " 'Sugarland and Negramaro',\n",
       " 'Sugarland and The Weeknd',\n",
       " 'Sugarland and Alkaline Trio',\n",
       " 'Sugarland and Ramones',\n",
       " 'Sugarland and Zaz',\n",
       " 'Sugarland and Florence + The Machine',\n",
       " 'Journey and Buena Vista Social Club',\n",
       " 'Journey and Wiz Khalifa',\n",
       " 'Journey and Lorde',\n",
       " 'Journey and Louis Armstrong',\n",
       " 'Journey and Frank Sinatra',\n",
       " 'Journey and Sammy Davis Jr.',\n",
       " 'Journey and Negramaro',\n",
       " 'Journey and The Weeknd',\n",
       " 'Journey and Alkaline Trio',\n",
       " 'Journey and Ramones',\n",
       " 'Journey and Zaz',\n",
       " 'Journey and Florence + The Machine',\n",
       " 'Buena Vista Social Club and Wiz Khalifa',\n",
       " 'Buena Vista Social Club and Lorde',\n",
       " 'Buena Vista Social Club and Louis Armstrong',\n",
       " 'Buena Vista Social Club and Frank Sinatra',\n",
       " 'Buena Vista Social Club and Sammy Davis Jr.',\n",
       " 'Buena Vista Social Club and Negramaro',\n",
       " 'Buena Vista Social Club and The Weeknd',\n",
       " 'Buena Vista Social Club and Alkaline Trio',\n",
       " 'Buena Vista Social Club and Ramones',\n",
       " 'Buena Vista Social Club and Zaz',\n",
       " 'Buena Vista Social Club and Florence + The Machine',\n",
       " 'Wiz Khalifa and Lorde',\n",
       " 'Wiz Khalifa and Louis Armstrong',\n",
       " 'Wiz Khalifa and Frank Sinatra',\n",
       " 'Wiz Khalifa and Sammy Davis Jr.',\n",
       " 'Wiz Khalifa and Negramaro',\n",
       " 'Wiz Khalifa and The Weeknd',\n",
       " 'Wiz Khalifa and Alkaline Trio',\n",
       " 'Wiz Khalifa and Ramones',\n",
       " 'Wiz Khalifa and Zaz',\n",
       " 'Wiz Khalifa and Florence + The Machine',\n",
       " 'Lorde and Louis Armstrong',\n",
       " 'Lorde and Frank Sinatra',\n",
       " 'Lorde and Sammy Davis Jr.',\n",
       " 'Lorde and Negramaro',\n",
       " 'Lorde and The Weeknd',\n",
       " 'Lorde and Alkaline Trio',\n",
       " 'Lorde and Ramones',\n",
       " 'Lorde and Zaz',\n",
       " 'Lorde and Florence + The Machine',\n",
       " 'Louis Armstrong and Frank Sinatra',\n",
       " 'Louis Armstrong and Sammy Davis Jr.',\n",
       " 'Louis Armstrong and Negramaro',\n",
       " 'Louis Armstrong and The Weeknd',\n",
       " 'Louis Armstrong and Alkaline Trio',\n",
       " 'Louis Armstrong and Ramones',\n",
       " 'Louis Armstrong and Zaz',\n",
       " 'Louis Armstrong and Florence + The Machine',\n",
       " 'Frank Sinatra and Sammy Davis Jr.',\n",
       " 'Frank Sinatra and Negramaro',\n",
       " 'Frank Sinatra and The Weeknd',\n",
       " 'Frank Sinatra and Alkaline Trio',\n",
       " 'Frank Sinatra and Ramones',\n",
       " 'Frank Sinatra and Zaz',\n",
       " 'Frank Sinatra and Florence + The Machine',\n",
       " 'Sammy Davis Jr. and Negramaro',\n",
       " 'Sammy Davis Jr. and The Weeknd',\n",
       " 'Sammy Davis Jr. and Alkaline Trio',\n",
       " 'Sammy Davis Jr. and Ramones',\n",
       " 'Sammy Davis Jr. and Zaz',\n",
       " 'Sammy Davis Jr. and Florence + The Machine',\n",
       " 'Negramaro and The Weeknd',\n",
       " 'Negramaro and Alkaline Trio',\n",
       " 'Negramaro and Ramones',\n",
       " 'Negramaro and Zaz',\n",
       " 'Negramaro and Florence + The Machine',\n",
       " 'The Weeknd and Alkaline Trio',\n",
       " 'The Weeknd and Ramones',\n",
       " 'The Weeknd and Zaz',\n",
       " 'The Weeknd and Florence + The Machine',\n",
       " 'Alkaline Trio and Ramones',\n",
       " 'Alkaline Trio and Zaz',\n",
       " 'Alkaline Trio and Florence + The Machine',\n",
       " 'Ramones and Zaz',\n",
       " 'Ramones and Florence + The Machine',\n",
       " 'Zaz and Florence + The Machine']"
      ]
     },
     "execution_count": 62,
     "metadata": {},
     "output_type": "execute_result"
    }
   ],
   "source": [
    "Duets"
   ]
  },
  {
   "cell_type": "code",
   "execution_count": 70,
   "metadata": {
    "collapsed": false
   },
   "outputs": [
    {
     "name": "stdout",
     "output_type": "stream",
     "text": [
      "  0 Video Games (Karaoke Version) - Originally Performed By Lana Del Rey\n",
      "  0 Till I'm Gone (Karaoke Version) - Originally Performed By Tinie Tempah & Wiz Khalifa\n",
      "  0 Royals (Originally Performed by Lorde) [Karaoke Version]\n",
      "  0 Prisoner (Originally Performed by The Weeknd and Lana del Rey) - Karaoke Instrumental\n",
      "  0 24 Hours\n",
      "  0 24 Hours\n",
      "  0 Shut up and Dance\n",
      "  0 24 Hours\n",
      "  0 Safe and Sound\n",
      "  0 I Won't Let Go (As Made Famous By Rascal Flatts)\n",
      "  0 Young, Wild & Free (feat. Bruno Mars)\n",
      "  0 Long, Long Journey (feat. Esquire All-American 1946 Award Winners)\n",
      "  0 Long Ago And Far Away\n",
      "  0 Or Nah (feat. The Weeknd, Wiz Khalifa and DJ Mustard) - Remix\n",
      "  0 Birth Of The Blues\n",
      "  0 Feeling Good\n",
      "  0 Shake It Out - The Weeknd Remix\n"
     ]
    }
   ],
   "source": [
    "for k in range(len(Duets)):\n",
    "    results = sp.search(q=Duets[k], limit=1)\n",
    "    for i, t in enumerate(results['tracks']['items']):\n",
    "        print(' ', i, t['name'])"
   ]
  },
  {
   "cell_type": "code",
   "execution_count": 9,
   "metadata": {
    "collapsed": false
   },
   "outputs": [
    {
     "ename": "ImportError",
     "evalue": "cannot import name 'StubhubClient'",
     "output_type": "error",
     "traceback": [
      "\u001b[0;31m---------------------------------------------------------------------------\u001b[0m",
      "\u001b[0;31mImportError\u001b[0m                               Traceback (most recent call last)",
      "\u001b[0;32m<ipython-input-9-e67c6cd4637e>\u001b[0m in \u001b[0;36m<module>\u001b[0;34m()\u001b[0m\n\u001b[0;32m----> 1\u001b[0;31m \u001b[0;32mfrom\u001b[0m \u001b[0mstubhub\u001b[0m \u001b[0;32mimport\u001b[0m \u001b[0mStubhubClient\u001b[0m\u001b[0;34m\u001b[0m\u001b[0m\n\u001b[0m\u001b[1;32m      2\u001b[0m \u001b[0;34m\u001b[0m\u001b[0m\n\u001b[1;32m      3\u001b[0m \u001b[0mstubhub\u001b[0m \u001b[0;34m=\u001b[0m \u001b[0mStubhubClient\u001b[0m\u001b[0;34m(\u001b[0m\u001b[0;34m)\u001b[0m\u001b[0;34m\u001b[0m\u001b[0m\n\u001b[1;32m      4\u001b[0m \u001b[0;34m\u001b[0m\u001b[0m\n\u001b[1;32m      5\u001b[0m \u001b[0;31m# Search Event objects by name/description.\u001b[0m\u001b[0;34m\u001b[0m\u001b[0;34m\u001b[0m\u001b[0m\n",
      "\u001b[0;31mImportError\u001b[0m: cannot import name 'StubhubClient'"
     ]
    }
   ],
   "source": [
    "from stubhub import StubhubClient\n",
    "\n",
    "stubhub = StubhubClient()  \n",
    "\n",
    "# Search Event objects by name/description.\n",
    "events = stubhub.Event.search_by_name('chvrches')"
   ]
  },
  {
   "cell_type": "code",
   "execution_count": null,
   "metadata": {
    "collapsed": true
   },
   "outputs": [],
   "source": []
  }
 ],
 "metadata": {
  "kernelspec": {
   "display_name": "Python 3",
   "language": "python",
   "name": "python3"
  },
  "language_info": {
   "codemirror_mode": {
    "name": "ipython",
    "version": 3
   },
   "file_extension": ".py",
   "mimetype": "text/x-python",
   "name": "python",
   "nbconvert_exporter": "python",
   "pygments_lexer": "ipython3",
   "version": "3.4.3"
  }
 },
 "nbformat": 4,
 "nbformat_minor": 0
}
