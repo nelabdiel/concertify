{
 "cells": [
  {
   "cell_type": "code",
   "execution_count": 1,
   "metadata": {
    "collapsed": true
   },
   "outputs": [],
   "source": [
    "#stuff we need.\n",
    "import simplejson\n",
    "#import time\n",
    "#import matplotlib\n",
    "#import matplotlib.pylab as plt\n",
    "#import urllib\n",
    "import json\n",
    "import spotipy\n",
    "import sys\n",
    "import spotipy.util as util\n",
    "from requests_oauthlib import OAuth1"
   ]
  },
  {
   "cell_type": "code",
   "execution_count": 6,
   "metadata": {
    "collapsed": true
   },
   "outputs": [],
   "source": [
    "#Here we open the app credentials\n",
    "\n",
    "with open(\"spotify.json.nogit\") as fh:\n",
    "    secrets = simplejson.loads(fh.read())\n",
    "    \n",
    "username = 'elnene'\n",
    "scope = 'user-follow-read'"
   ]
  },
  {
   "cell_type": "code",
   "execution_count": 8,
   "metadata": {
    "collapsed": false
   },
   "outputs": [
    {
     "name": "stdout",
     "output_type": "stream",
     "text": [
      "\n",
      "\n",
      "            User authentication requires interaction with your\n",
      "            web browser. Once you enter your credentials and\n",
      "            give authorization, you will be redirected to\n",
      "            a url.  Paste that url you were directed to to\n",
      "            complete the authorization.\n",
      "\n",
      "        \n",
      "Opening https://accounts.spotify.com/authorize?redirect_uri=http%3A%2F%2Flocalhost%3A8888%2Fcallback&scope=user-follow-read&client_id=299e4d4f46f54124a15d888bc7c52e20&response_type=code in your browser\n",
      "\n",
      "\n",
      "Enter the URL you were redirected to: http://localhost:8888/callback?code=AQADNbP_44WXX8Q8uzBIPzJ620l2wEc8slHrLbFfy4n9phn_JhZz3FoNQDhMIORidMxy8zBz8Km-w2VEFIpBwjzJalg29N7aEThOQuflp1ngBWYhWxdHpG7k0n7IO1t5vUpWCvuwHP4HdWQP4FFt5yLnUjXSugmCvHRb2XiFcfgVf9i5Tg3AdZhbU-kG79CBwW9rHcFkVPdXc0o2qRHXw_tCEKSrZQ\n",
      "\n",
      "\n"
     ]
    }
   ],
   "source": [
    "#Here we pull up the list of artists you follow\n",
    "\n",
    "token = util.prompt_for_user_token(username, scope, client_id = secrets[\"client_id\"],\n",
    "        client_secret = secrets[\"client_secret\"], redirect_uri = secrets[\"redirect_uri\"])\n",
    "    \n",
    "\n",
    "if token:\n",
    "    sp = spotipy.Spotify(auth=token)\n",
    "    sp.trace = False\n",
    "    results = sp.current_user_followed_artists(limit=50, after=None)\n",
    "    \n",
    "Artistslist = []\n",
    "\n",
    "for i in range(len(results[\"artists\"][\"items\"])):\n",
    "    Artistslist.append(results[\"artists\"][\"items\"][i][\"name\"])    "
   ]
  },
  {
   "cell_type": "code",
   "execution_count": null,
   "metadata": {
    "collapsed": true
   },
   "outputs": [],
   "source": []
  },
  {
   "cell_type": "code",
   "execution_count": null,
   "metadata": {
    "collapsed": false
   },
   "outputs": [],
   "source": [
    "#Here we generate a list of possible duets among artists you follow\n",
    "Duets = []\n",
    "\n",
    "for i in range(len(Artistslist)):\n",
    "    for j in range(i+1,len(Artistslist)):\n",
    "        M = '%s %s % s' % (Artistslist[i],'and', Artistslist[j]) \n",
    "        Duets.append(M)"
   ]
  },
  {
   "cell_type": "code",
   "execution_count": 12,
   "metadata": {
    "collapsed": false
   },
   "outputs": [
    {
     "data": {
      "text/plain": [
       "['Lana Del Rey',\n",
       " 'Jason Derulo',\n",
       " 'Death Cab for Cutie',\n",
       " 'Robin Thicke',\n",
       " 'Rascal Flatts',\n",
       " 'Bruno Mars',\n",
       " 'Sugarland',\n",
       " 'Journey',\n",
       " 'Buena Vista Social Club',\n",
       " 'Wiz Khalifa',\n",
       " 'Lorde',\n",
       " 'Louis Armstrong',\n",
       " 'Frank Sinatra',\n",
       " 'Sammy Davis Jr.',\n",
       " 'Negramaro',\n",
       " 'The Weeknd',\n",
       " 'Alkaline Trio',\n",
       " 'Ramones',\n",
       " 'Zaz',\n",
       " 'Florence + The Machine',\n",
       " 'Nate Ruess',\n",
       " 'Joan Manuel Serrat',\n",
       " 'Wisin & Yandel',\n",
       " 'The Rolling Stones',\n",
       " 'Dixie Chicks',\n",
       " 'Tommy Torres',\n",
       " 'Chucho Valdes',\n",
       " 'Ms. Lauryn Hill',\n",
       " 'Bob Marley & The Wailers',\n",
       " 'Dream Theater',\n",
       " 'Tony Bennett',\n",
       " 'Lady Antebellum',\n",
       " 'Jimmy Eat World',\n",
       " 'Train',\n",
       " 'Elton John',\n",
       " 'Yeah Yeah Yeahs',\n",
       " 'Drake',\n",
       " 'The Beatles',\n",
       " 'Incubus',\n",
       " 'Fernando Delgadillo',\n",
       " 'Weezer',\n",
       " 'Watsky',\n",
       " 'Juan Luis Guerra',\n",
       " 'Blues Traveler',\n",
       " 'Regina Spektor',\n",
       " 'Dean Martin',\n",
       " 'Bobby Capo',\n",
       " 'Gym Class Heroes',\n",
       " 'Franco De Vita',\n",
       " 'La Oreja de Van Gogh']"
      ]
     },
     "execution_count": 12,
     "metadata": {},
     "output_type": "execute_result"
    }
   ],
   "source": [
    "Artistslist"
   ]
  },
  {
   "cell_type": "code",
   "execution_count": null,
   "metadata": {
    "collapsed": false
   },
   "outputs": [],
   "source": [
    "\n",
    "#Here we look for songs from the Duets\n",
    "SongsDuets= []\n",
    "\n",
    "for k in range(len(Duets)):\n",
    "    results = sp.search(q=Duets[k], limit=1)\n",
    "    for i, t in enumerate(results['tracks']['items']):\n",
    "        if 'Karaoke' not in t['name']:\n",
    "            SongsDuets.append(t['uri'])"
   ]
  },
  {
   "cell_type": "code",
   "execution_count": null,
   "metadata": {
    "collapsed": false
   },
   "outputs": [],
   "source": [
    "#Here we create a new playlists for them\n",
    "\n",
    "scope = 'playlist-modify-public'\n",
    "name = 'Duets'\n",
    "\n",
    "if token:\n",
    "    sp = spotipy.Spotify(auth=token)\n",
    "    sp.trace = False\n",
    "    results = sp.user_playlist_create(username, name, public=True)"
   ]
  },
  {
   "cell_type": "code",
   "execution_count": null,
   "metadata": {
    "collapsed": false
   },
   "outputs": [],
   "source": [
    "#Here we look up the id of the newly created playlist\n",
    "\n",
    "scope = 'playlist-modify-public'\n",
    "\n",
    "if token:\n",
    "    sp = spotipy.Spotify(auth=token)\n",
    "    sp.trace = False\n",
    "    results = sp.user_playlists(username, limit=50, offset=0)\n",
    "    results\n",
    "    #print(results[\"items\"])\n",
    "    for i in range(len(results[\"items\"])):\n",
    "        if results[\"items\"][i][\"name\"] == 'Duets':\n",
    "            playlist_id = results[\"items\"][i][\"id\"]"
   ]
  },
  {
   "cell_type": "code",
   "execution_count": null,
   "metadata": {
    "collapsed": false
   },
   "outputs": [],
   "source": [
    "#And here we add the songs to the Duets playlist\n",
    "scope = 'playlist-modify-public'\n",
    "token = util.prompt_for_user_token(username, scope, client_id = secrets[\"client_id\"],\n",
    "        client_secret = secrets[\"client_secret\"], redirect_uri = secrets[\"redirect_uri\"])\n",
    "\n",
    "if token:\n",
    "    sp = spotipy.Spotify(auth=token)\n",
    "    sp.trace = False\n",
    "    results = sp.user_playlist_add_tracks(username, playlist_id, SongsDuets)\n",
    "    print(results)\n",
    "else:\n",
    "    print(\"Can't get token for\", username)"
   ]
  },
  {
   "cell_type": "code",
   "execution_count": null,
   "metadata": {
    "collapsed": true
   },
   "outputs": [],
   "source": []
  }
 ],
 "metadata": {
  "kernelspec": {
   "display_name": "Python 3",
   "language": "python",
   "name": "python3"
  },
  "language_info": {
   "codemirror_mode": {
    "name": "ipython",
    "version": 3
   },
   "file_extension": ".py",
   "mimetype": "text/x-python",
   "name": "python",
   "nbconvert_exporter": "python",
   "pygments_lexer": "ipython3",
   "version": "3.4.3"
  }
 },
 "nbformat": 4,
 "nbformat_minor": 0
}
