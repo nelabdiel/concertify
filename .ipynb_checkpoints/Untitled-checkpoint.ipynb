{
 "cells": [
  {
   "cell_type": "code",
   "execution_count": null,
   "metadata": {
    "collapsed": false
   },
   "outputs": [],
   "source": [
    "import spotipy\n",
    "import sys\n",
    "\n",
    "spotify = spotipy.Spotify()\n",
    "\n",
    "#if len(sys.argv) > 1:\n",
    "   # name = ' '.join(sys.argv[1:])\n",
    "#else:\n",
    "name = 'Radiohead'\n",
    "\n",
    "results = spotify.search(q='artist:' + name, type='artist')\n",
    "items = results['artists']['items']\n",
    "if len(items) > 0:\n",
    "    artist = items[0]\n",
    "    print(artist['name'], artist['images'][0]['url'])"
   ]
  },
  {
   "cell_type": "code",
   "execution_count": null,
   "metadata": {
    "collapsed": false
   },
   "outputs": [],
   "source": [
    "%tb"
   ]
  },
  {
   "cell_type": "code",
   "execution_count": null,
   "metadata": {
    "collapsed": false
   },
   "outputs": [],
   "source": [
    "import sys\n",
    "import spotipy\n",
    "import spotipy.util as util\n",
    "from requests_oauthlib import OAuth1\n",
    "import simplejson\n",
    "\n",
    "with open(\"spotify.json.nogit\") as fh:\n",
    "    secrets = simplejson.loads(fh.read())\n",
    "    \n",
    "    \n",
    "\n",
    "scope = 'user-library-read'\n",
    "username = 'nelabdiel'\n",
    "\n",
    "\n"
   ]
  },
  {
   "cell_type": "code",
   "execution_count": null,
   "metadata": {
    "collapsed": false
   },
   "outputs": [],
   "source": [
    "#if len(sys.argv) > 1:\n",
    "   # username = sys.argv[1]\n",
    "#else:\n",
    "  #  print \"Usage: %s username\" % (sys.argv[0],)\n",
    "    #sys.exit()\n",
    "auth = OAuth1(\n",
    "    secrets[\"client_id\"],\n",
    "    secrets[\"client_secret\"],\n",
    "    secrets[\"redirect_uri\"],\n",
    ")\n",
    "\n",
    "token = util.prompt_for_user_token(username, scope, client_id = secrets[\"client_id\"],\n",
    "        client_secret = secrets[\"client_secret\"], redirect_uri = secrets[\"redirect_uri\"])\n",
    "\n",
    "track_ids =[]\n",
    "\n",
    "if token:\n",
    "    sp = spotipy.Spotify(auth=token)\n",
    "    results = sp.current_user_saved_tracks()\n",
    "    for item in results['items']:\n",
    "        track = item['track']\n",
    "        track_ids.append(track['id'])\n",
    "        print(track['name'] + ' - ' + track['artists'][0]['name'])\n",
    "else:\n",
    "    print(\"Can't get token for\", username)"
   ]
  },
  {
   "cell_type": "code",
   "execution_count": null,
   "metadata": {
    "collapsed": false
   },
   "outputs": [],
   "source": [
    "track_ids"
   ]
  },
  {
   "cell_type": "code",
   "execution_count": null,
   "metadata": {
    "collapsed": false
   },
   "outputs": [],
   "source": [
    "scope = 'playlist-modify-public'\n",
    "token = util.prompt_for_user_token(username, scope, client_id = secrets[\"client_id\"],\n",
    "        client_secret = secrets[\"client_secret\"], redirect_uri = secrets[\"redirect_uri\"])\n",
    "\n",
    "playlist_id = '4vyqgDOsEJ0ysUCmnlZQEV'\n",
    "if token:\n",
    "    sp = spotipy.Spotify(auth=token)\n",
    "    sp.trace = False\n",
    "    results = sp.user_playlist_add_tracks(username, playlist_id, track_ids)\n",
    "    print(results)\n",
    "else:\n",
    "    print(\"Can't get token for\", username)"
   ]
  },
  {
   "cell_type": "code",
   "execution_count": null,
   "metadata": {
    "collapsed": true
   },
   "outputs": [],
   "source": []
  }
 ],
 "metadata": {
  "kernelspec": {
   "display_name": "Python 3",
   "language": "python",
   "name": "python3"
  },
  "language_info": {
   "codemirror_mode": {
    "name": "ipython",
    "version": 3
   },
   "file_extension": ".py",
   "mimetype": "text/x-python",
   "name": "python",
   "nbconvert_exporter": "python",
   "pygments_lexer": "ipython3",
   "version": "3.4.3"
  }
 },
 "nbformat": 4,
 "nbformat_minor": 0
}
